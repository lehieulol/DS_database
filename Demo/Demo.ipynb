{
 "cells": [
  {
   "cell_type": "code",
   "execution_count": 1,
   "metadata": {},
   "outputs": [],
   "source": [
    "import xgboost as xgb \n",
    "import numpy as np\n",
    "import category_encoders as ce\n",
    "import pickle\n",
    "import joblib\n",
    "import pandas as pd\n",
    "from sklearn.preprocessing import MinMaxScaler\n",
    "\n",
    "model = xgb.Booster()\n",
    "model.load_model(\"XGBoost.json\")\n",
    "\n",
    "\n",
    "encoder_binary = None\n",
    "with open('encoder_binary.txt', \"rb\") as f:\n",
    "    encoder_binary = pickle.load(f)\n",
    "\n",
    "\n",
    "encoder_ordinal = None\n",
    "with open('encoder_ordinal.txt', \"rb\") as f:\n",
    "    encoder_ordinal = pickle.load(f)\n",
    "\n",
    "scaler = None\n",
    "#with open('scaler.txt', \"rb\") as f:\n",
    "#    scaler = pickle.load(f)\n",
    "    \n",
    "with open('scaler.joblib', \"rb\") as f:\n",
    "    scaler = joblib.load(f)"
   ]
  },
  {
   "cell_type": "code",
   "execution_count": 3,
   "metadata": {},
   "outputs": [],
   "source": [
    "def is_transit(brand):\n",
    "    if ',' in brand:\n",
    "        return 1\n",
    "    else:\n",
    "        return 0"
   ]
  },
  {
   "cell_type": "code",
   "execution_count": 4,
   "metadata": {},
   "outputs": [],
   "source": [
    "cities = ['Hà Nội', 'Đà Nẵng', 'Hồ Chí Minh', 'Phú Quốc', 'Vinh', 'Huế', 'Côn Đảo', 'Đà Lạt', 'Đồng Hới', 'Pleiku', 'Hải Phòng', 'Nha Trang', 'Chu Lai', 'Buôn Ma Thuột', 'Cần Thơ', 'Điện Biên Phủ', 'Cà Mau', 'Rạch Giá']\n",
    "brands = ['Vietravel Airlines', 'VietJet Air', 'Vietnam Airlines',\n",
    "       'A.P.G. Distribution System', 'VietJet Air, Vietnam Airlines',\n",
    "       'Vietnam Airlines, VietJet Air', 'VietJet Air, Vietravel Airlines',\n",
    "       'Vietnam Airlines, Vietravel Airlines',\n",
    "       'Vietravel Airlines, VietJet Air',\n",
    "       'Vietravel Airlines, Vietnam Airlines',\n",
    "       'VietJet Air, Pacific Airlines',\n",
    "       'Pacific Airlines, Vietravel Airlines', 'Pacific Airlines',\n",
    "       'Vietravel Airlines, Pacific Airlines',\n",
    "       'Vietnam Airlines, Pacific Airlines',\n",
    "       'Pacific Airlines, Vietnam Airlines',\n",
    "       'Pacific Airlines, VietJet Air',\n",
    "       'A.P.G. Distribution System, Vietnam Airlines']\n",
    "class_types = ['economy', 'business']\n",
    "time_categories = ['Early Morning','Morning','Noon','Afternoon','Evening','Late Night']"
   ]
  },
  {
   "cell_type": "code",
   "execution_count": 5,
   "metadata": {},
   "outputs": [],
   "source": [
    "def get_price(brand, date, dcity, acity, class_type, flytime_hours, dtime_category, atime_category):\n",
    "    input_data = {\n",
    "        'brand':[brand], \n",
    "        'dcity':[dcity],\n",
    "        'acity':[acity],\n",
    "        'class_type':[class_type],\n",
    "        'flytime_hours':[flytime_hours],\n",
    "        'ddate':[date],\n",
    "        'dtime':[dtime_category],\n",
    "        'atime':[atime_category],\n",
    "    }\n",
    "    df = pd.DataFrame(input_data)\n",
    "    df['Transit'] = df['brand'].apply(is_transit)\n",
    "    df[['dtime_category', 'atime_category']] = df[['dtime', 'atime']]\n",
    "    df = df.drop(['dtime', 'atime'], axis=1)\n",
    "    df['ddate'] = pd.to_datetime(df['ddate'])\n",
    "    df['day_of_week'] = df['ddate'].dt.dayofweek\n",
    "    df['month'] = df['ddate'].dt.month\n",
    "    df['day_of_year'] = df['ddate'].dt.dayofyear\n",
    "    df = encoder_binary.transform(df)\n",
    "    df = encoder_ordinal.transform(df)\n",
    "    df['flytime_hours'] = df['flytime_hours'].astype(np.float64)\n",
    "    df['price'] = df['flytime_hours']\n",
    "    df[['price', 'flytime_hours']] = scaler.transform(df[['price', 'flytime_hours']])\n",
    "    df = df.drop(['price', 'ddate'], axis=1)\n",
    "    \n",
    "    df['price'] = model.predict(xgb.DMatrix(df))\n",
    "    df['price'] = df['price'].astype(np.float64)\n",
    "    df[['price', 'flytime_hours']] = scaler.inverse_transform(df[['price', 'flytime_hours']])\n",
    "    return df['price'].to_numpy()[0]\n",
    "    \n",
    "\n"
   ]
  },
  {
   "cell_type": "code",
   "execution_count": 8,
   "metadata": {},
   "outputs": [
    {
     "name": "stdout",
     "output_type": "stream",
     "text": [
      "0    0.0\n",
      "Name: flytime_hours, dtype: float64\n",
      "0   -0.021138\n",
      "Name: flytime_hours, dtype: float64\n",
      "0    0.005843\n",
      "Name: price, dtype: float64\n",
      "0    840887.133467\n",
      "Name: price, dtype: float64\n"
     ]
    }
   ],
   "source": [
    "import PySimpleGUI as sg\n",
    "brand_choices = []\n",
    "layout = [[sg.Text('Please fill out the following fields:')],\n",
    "    [sg.Text('Brand',size=(20,1)), sg.Combo(key='brand', values=brands, default_value='Vietravel Airlines')],\n",
    "    [sg.Text('Date',size=(20,1)), sg.InputText(key='date'),sg.CalendarButton(\"Select Date\",close_when_date_chosen=True, target=\"date\", format='%Y-%m-%d',size=(10,1))],\n",
    "    [sg.Text('Departing city', size=(20,1)), sg.Combo(key='dcity', values=cities, default_value='Hà Nội')],\n",
    "    [sg.Text('Landing city', size=(20,1)),sg.Combo(key='acity', values=cities, default_value='Hồ Chí Minh')],\n",
    "    [sg.Text('Class', size=(20,1)),sg.Combo(key='class_type', values=class_types, default_value='economy')],\n",
    "    [sg.Text('Fly time (hours)', size=(20,1)),sg.InputText(key='flytime_hours', default_text='0', enable_events=True)],\n",
    "    [sg.Text('Departing time category', size=(20,1)),sg.Combo(key='dtime_category', values=time_categories, default_value='Early Morning')],\n",
    "    [sg.Text('Landing time category', size=(20,1)),sg.Combo(key='atime_category', values=time_categories, default_value='Early Morning')],\n",
    "    [sg.Button(\"Submit\"), sg.Exit(\"Exit\")],\n",
    "    [sg.Text(key='output')]\n",
    "]\n",
    "\n",
    "# Create the window\n",
    "window = sg.Window(\"Demo\", layout)\n",
    "\n",
    "# Create an event loop\n",
    "while True:\n",
    "    event, values = window.read()\n",
    "    # End program if user closes window or\n",
    "    # presses the OK button\n",
    "    if event == 'flytime_hours' and values['flytime_hours'] and values['flytime_hours'][-1] not in ('0123456789.'):\n",
    "        window['flytime_hours'].update(values['flytime_hours'][:-1])\n",
    "    if event == \"Exit\" or event == sg.WIN_CLOSED:\n",
    "        break\n",
    "    if event == \"Submit\":\n",
    "        try:\n",
    "            float(values['flytime_hours'])\n",
    "        except Exception:\n",
    "            continue\n",
    "        price = get_price(values['brand'], values['date'], values['dcity'], values['acity'], values['class_type'], values['flytime_hours'], values['dtime_category'], values['atime_category'])\n",
    "        window['output'].update(f'{int(price):,}'+' đ')\n",
    "        \n",
    "window.close()"
   ]
  }
 ],
 "metadata": {
  "kernelspec": {
   "display_name": "Python 3",
   "language": "python",
   "name": "python3"
  },
  "language_info": {
   "codemirror_mode": {
    "name": "ipython",
    "version": 3
   },
   "file_extension": ".py",
   "mimetype": "text/x-python",
   "name": "python",
   "nbconvert_exporter": "python",
   "pygments_lexer": "ipython3",
   "version": "3.10.2"
  }
 },
 "nbformat": 4,
 "nbformat_minor": 2
}
